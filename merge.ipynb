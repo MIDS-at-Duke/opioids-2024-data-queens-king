{
 "cells": [
  {
   "cell_type": "code",
   "execution_count": 1,
   "metadata": {},
   "outputs": [],
   "source": [
    "import pandas as pd\n",
    "import numpy as np\n",
    "import matplotlib.pyplot as plt\n",
    "from bs4 import BeautifulSoup\n",
    "import requests"
   ]
  },
  {
   "cell_type": "markdown",
   "metadata": {},
   "source": [
    "This step improts the FIPS data and subsets it to the group of desired states in our anlaysis. "
   ]
  },
  {
   "cell_type": "code",
   "execution_count": 2,
   "metadata": {},
   "outputs": [
    {
     "name": "stdout",
     "output_type": "stream",
     "text": [
      "  FIPS Code      County Name\n",
      "0     01001   Autauga County\n",
      "1     01003   Baldwin County\n",
      "2     01005   Barbour County\n",
      "3     01007      Bibb County\n",
      "4     01009    Blount County\n",
      "5     01011   Bullock County\n",
      "6     01013    Butler County\n",
      "7     01015   Calhoun County\n",
      "8     01017  Chambers County\n",
      "9     01019  Cherokee County\n"
     ]
    }
   ],
   "source": [
    "url = \"https://en.wikipedia.org/wiki/List_of_United_States_FIPS_codes_by_county\"\n",
    "response = requests.get(url)\n",
    "html_content = response.content\n",
    "\n",
    "soup = BeautifulSoup(html_content, \"html.parser\")\n",
    "\n",
    "table = soup.find(\"table\", {\"class\": \"wikitable\"})\n",
    "\n",
    "rows = table.find_all(\"tr\")\n",
    "data = []\n",
    "for row in rows[1:]:  # Skip the header row\n",
    "    cols = row.find_all(\"td\")\n",
    "    if len(cols) >= 2:  # Ensure the row has at least two columns\n",
    "        fips_code = cols[0].text.strip()\n",
    "        county_name = cols[1].text.strip()\n",
    "        data.append({\"FIPS Code\": fips_code, \"County Name\": county_name})\n",
    "\n",
    "county_fips_df = pd.DataFrame(data)\n",
    "\n",
    "county_fips_df.to_csv(\"county_fips.csv\", index=False)\n",
    "\n",
    "print(county_fips_df.head(10))"
   ]
  },
  {
   "cell_type": "markdown",
   "metadata": {},
   "source": [
    "Below we add a mapping for:\n",
    "- Each State FIPS (first 2 digits of a FIPS code)\n",
    "- The corresponsing 2 letter abbreviation for these states"
   ]
  },
  {
   "cell_type": "code",
   "execution_count": 3,
   "metadata": {},
   "outputs": [
    {
     "name": "stdout",
     "output_type": "stream",
     "text": [
      "  County_FIPS          County state_FIPS State\n",
      "0       01001  Autauga County         01    AL\n",
      "1       01003  Baldwin County         01    AL\n",
      "2       01005  Barbour County         01    AL\n",
      "3       01007     Bibb County         01    AL\n",
      "4       01009   Blount County         01    AL\n"
     ]
    }
   ],
   "source": [
    "first_2 = [\"53\", \"01\", \"13\", \"23\", \"08\", \"12\", \"40\", \"41\"]\n",
    "mapping = {\n",
    "    \"53\": \"WA\",\n",
    "    \"01\": \"AL\",\n",
    "    \"13\": \"GA\",\n",
    "    \"23\": \"ME\",\n",
    "    \"08\": \"CO\",\n",
    "    \"12\": \"FL\",\n",
    "    \"40\": \"OK\",\n",
    "    \"41\": \"OR\",\n",
    "}\n",
    "\n",
    "\n",
    "county_fips_df[\"state_FIPS\"] = county_fips_df[\"FIPS Code\"].str[:2]\n",
    "\n",
    "fips_df = county_fips_df[county_fips_df[\"state_FIPS\"].isin(first_2)].copy()\n",
    "\n",
    "\n",
    "fips_df[\"State\"] = fips_df[\"state_FIPS\"].map(mapping)\n",
    "\n",
    "\n",
    "fips_df = fips_df.rename(columns={\"FIPS Code\": \"County_FIPS\", \"County Name\": \"County\"})\n",
    "\n",
    "print(fips_df.head(5))"
   ]
  },
  {
   "cell_type": "code",
   "execution_count": 4,
   "metadata": {},
   "outputs": [
    {
     "name": "stdout",
     "output_type": "stream",
     "text": [
      "   FIPS     Name  RUC Code         YR Completing College  \\\n",
      "0  1000  Alabama       NaN       1970               7.8%   \n",
      "1  1000  Alabama       NaN       1980              12.2%   \n",
      "2  1000  Alabama       NaN       1990              15.7%   \n",
      "3  1000  Alabama       NaN       2000              19.0%   \n",
      "4  1000  Alabama       NaN  2008-2012              22.3%   \n",
      "\n",
      "  Completing High School Only Not Completing High School  \\\n",
      "0                       25.9%                      58.7%   \n",
      "1                       31.8%                      43.5%   \n",
      "2                       29.4%                      33.1%   \n",
      "3                       30.4%                      24.7%   \n",
      "4                       31.3%                      17.4%   \n",
      "\n",
      "   All people in poverty (2021) Percent  \\\n",
      "0                                   NaN   \n",
      "1                                   NaN   \n",
      "2                                   NaN   \n",
      "3                                   NaN   \n",
      "4                                   NaN   \n",
      "\n",
      "   Children ages 0-17 in poverty (2021) Percent  \\\n",
      "0                                           NaN   \n",
      "1                                           NaN   \n",
      "2                                           NaN   \n",
      "3                                           NaN   \n",
      "4                                           NaN   \n",
      "\n",
      "  Median Household Income (2021)  Unemployment Rate (%)  \n",
      "0                           None                    NaN  \n",
      "1                           None                    NaN  \n",
      "2                           None                    NaN  \n",
      "3                           None                    NaN  \n",
      "4                           None                    NaN  \n"
     ]
    }
   ],
   "source": [
    "import pandas as pd\n",
    "import requests\n",
    "from dotenv import load_dotenv\n",
    "import os\n",
    "\n",
    "\n",
    "GITHUB_TOKEN = os.getenv(\"GITHUB_TOKEN\")\n",
    "\n",
    "\n",
    "url = \"https://raw.githubusercontent.com/MIDS-at-Duke/opioids-2024-data-queens-king/main/data/USDA_education_poverty_unemployment_income.parquet\"\n",
    "\n",
    "\n",
    "headers = {\"Authorization\": f\"Bearer {GITHUB_TOKEN}\"}\n",
    "response = requests.get(url, headers=headers)\n",
    "\n",
    "\n",
    "epu_df = pd.read_parquet(\"USDA_education_poverty_unemployment_income.parquet\")\n",
    "print(epu_df.head(5))"
   ]
  },
  {
   "cell_type": "code",
   "execution_count": 5,
   "metadata": {},
   "outputs": [
    {
     "name": "stdout",
     "output_type": "stream",
     "text": [
      "the length of the opioid dataset is 7128 while the distinctcount of the unique id state-county-yr is 7128\n"
     ]
    },
    {
     "data": {
      "text/plain": [
       "year\n",
       "2006    513\n",
       "2011    511\n",
       "2010    511\n",
       "2014    511\n",
       "2009    510\n",
       "2007    510\n",
       "2013    510\n",
       "2012    510\n",
       "2008    509\n",
       "2016    508\n",
       "2019    507\n",
       "2018    507\n",
       "2015    506\n",
       "2017    505\n",
       "Name: count, dtype: int64"
      ]
     },
     "execution_count": 5,
     "metadata": {},
     "output_type": "execute_result"
    }
   ],
   "source": [
    "file_path = \"data/opioid_shipment_WA_FL_andconstants.parquet\"\n",
    "\n",
    "opioid = pd.read_parquet(file_path)\n",
    "\n",
    "opioid[\"state-county\"] = opioid[\"BUYER_STATE\"] + \"|\" + opioid[\"BUYER_COUNTY\"]\n",
    "\n",
    "opioid.head(2)\n",
    "\n",
    "opioid[\"state-county-yr\"] = opioid[\"state-county\"] + \"|\" + opioid[\"year\"].astype(\"str\")\n",
    "\n",
    "unique_id_of_op = opioid[\"state-county-yr\"].nunique()\n",
    "length_op = len(opioid)\n",
    "\n",
    "print(\n",
    "    f\"the length of the opioid dataset is {unique_id_of_op} while the distinctcount of the unique id state-county-yr is {length_op}\"\n",
    ")\n",
    "\n",
    "opioid[\"year\"].value_counts()"
   ]
  },
  {
   "cell_type": "markdown",
   "metadata": {},
   "source": [
    "Below is a skeleton model to merge the main opioid data with the FIPS Dataset. I assume here that the naming convention for each county is consistent between the FIPS reference table and the main Opioid Dataset. If not, an additional dictionary wil be needed where names get fixed prior to the merge. This Merge Connects: \n",
    "- The Main Opioid Dataset\n",
    "- FIPS Code for each county"
   ]
  },
  {
   "cell_type": "code",
   "execution_count": 6,
   "metadata": {},
   "outputs": [
    {
     "name": "stdout",
     "output_type": "stream",
     "text": [
      "   Year State_x  County_x  Opioid state-county  FIPS  County_y State_y _merge\n",
      "0  2005      AB  County A      10  AB|County A   134  County A      AB   both\n",
      "1  2006      BB  County B      20  BB|County B   234  County B      BB   both\n",
      "2  2007      AA  County C      30  AA|County C   333  County C      AA   both\n"
     ]
    }
   ],
   "source": [
    "df3 = pd.DataFrame(\n",
    "    {\n",
    "        \"FIPS\": [134, 234, 333],\n",
    "        \"County\": [\"County A\", \"County B\", \"County C\"],\n",
    "        \"State\": [\"AB\", \"BB\", \"AA\"],\n",
    "    }\n",
    ")\n",
    "\n",
    "df3[\"state-county\"] = df3[\"State\"] + \"|\" + df3[\"County\"]\n",
    "\n",
    "\n",
    "df1 = pd.DataFrame(\n",
    "    {\n",
    "        \"Year\": [2005, 2006, 2007],\n",
    "        \"State\": [\"AB\", \"BB\", \"AA\"],\n",
    "        \"County\": [\"County A\", \"County B\", \"County C\"],\n",
    "        \"Opioid\": [10, 20, 30],\n",
    "    }\n",
    ")\n",
    "\n",
    "df1[\"state-county\"] = df1[\"State\"] + \"|\" + df1[\"County\"]\n",
    "df1 = pd.merge(\n",
    "    df1, df3, how=\"left\", on=[\"state-county\"], indicator=True, validate=\"m:1\"\n",
    ")\n",
    "\n",
    "print(df1.head(3))"
   ]
  },
  {
   "cell_type": "markdown",
   "metadata": {},
   "source": [
    "Below is some dummy data to test my merge operation prior to setting it in main_merge_viz. In this instance we merge two datasets:\n",
    "- The Main Opioid Dataset\n",
    "- The Dataset that contains Population per FIPS (or population per FIPS-year)"
   ]
  },
  {
   "cell_type": "code",
   "execution_count": 7,
   "metadata": {},
   "outputs": [],
   "source": [
    "# df1 = pd.DataFrame({\n",
    "#     'FIPS': [134, 234, 333],\n",
    "#     'Year': [2005,2006,2007],\n",
    "#     'State': ['GA', 'FL', 'WA'],\n",
    "#     'County': ['County A', 'County B', 'County C']\n",
    "#     'Value1': [10, 20, 30]\n",
    "# })\n",
    "\n",
    "\n",
    "# df2 = pd.DataFrame({\n",
    "#     'FIPS':[134, 234, 333],\n",
    "#     'County Population':[1000, 200, 3000],\n",
    "# })"
   ]
  },
  {
   "cell_type": "code",
   "execution_count": 8,
   "metadata": {},
   "outputs": [],
   "source": [
    "# Testing Merge Functions assuring we get a One-One OR Many-One Merge"
   ]
  },
  {
   "cell_type": "code",
   "execution_count": 9,
   "metadata": {},
   "outputs": [],
   "source": [
    "# merged_data = pd.merge(df1,df2, how='left', on=['FIPS'], indicator=True, validate='m:1')\n",
    "\n",
    "# print(merged_data.sample(2))"
   ]
  }
 ],
 "metadata": {
  "kernelspec": {
   "display_name": "base",
   "language": "python",
   "name": "python3"
  },
  "language_info": {
   "codemirror_mode": {
    "name": "ipython",
    "version": 3
   },
   "file_extension": ".py",
   "mimetype": "text/x-python",
   "name": "python",
   "nbconvert_exporter": "python",
   "pygments_lexer": "ipython3",
   "version": "3.12.7"
  }
 },
 "nbformat": 4,
 "nbformat_minor": 2
}
