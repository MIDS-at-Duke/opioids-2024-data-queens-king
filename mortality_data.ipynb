{
 "cells": [
  {
   "cell_type": "markdown",
   "metadata": {},
   "source": [
    "## Import Required Libraries"
   ]
  },
  {
   "cell_type": "code",
   "execution_count": 1,
   "metadata": {},
   "outputs": [],
   "source": [
    "import pandas as pd\n",
    "import numpy as np\n",
    "\n",
    "pd.set_option(\"mode.copy_on_write\", True)"
   ]
  },
  {
   "cell_type": "markdown",
   "metadata": {},
   "source": [
    "## Load and Preview Raw Data"
   ]
  },
  {
   "cell_type": "code",
   "execution_count": 2,
   "metadata": {},
   "outputs": [
    {
     "data": {
      "text/html": [
       "<div>\n",
       "<style scoped>\n",
       "    .dataframe tbody tr th:only-of-type {\n",
       "        vertical-align: middle;\n",
       "    }\n",
       "\n",
       "    .dataframe tbody tr th {\n",
       "        vertical-align: top;\n",
       "    }\n",
       "\n",
       "    .dataframe thead th {\n",
       "        text-align: right;\n",
       "    }\n",
       "</style>\n",
       "<table border=\"1\" class=\"dataframe\">\n",
       "  <thead>\n",
       "    <tr style=\"text-align: right;\">\n",
       "      <th></th>\n",
       "      <th>Notes</th>\n",
       "      <th>County</th>\n",
       "      <th>County Code</th>\n",
       "      <th>Year</th>\n",
       "      <th>Year Code</th>\n",
       "      <th>Drug/Alcohol Induced Cause</th>\n",
       "      <th>Drug/Alcohol Induced Cause Code</th>\n",
       "      <th>Deaths</th>\n",
       "    </tr>\n",
       "  </thead>\n",
       "  <tbody>\n",
       "    <tr>\n",
       "      <th>0</th>\n",
       "      <td>NaN</td>\n",
       "      <td>Autauga County, AL</td>\n",
       "      <td>1001</td>\n",
       "      <td>2003.0</td>\n",
       "      <td>2003.0</td>\n",
       "      <td>All other non-drug and non-alcohol causes</td>\n",
       "      <td>O9</td>\n",
       "      <td>397.0</td>\n",
       "    </tr>\n",
       "    <tr>\n",
       "      <th>1</th>\n",
       "      <td>NaN</td>\n",
       "      <td>Baldwin County, AL</td>\n",
       "      <td>1003</td>\n",
       "      <td>2003.0</td>\n",
       "      <td>2003.0</td>\n",
       "      <td>Drug poisonings (overdose) Unintentional (X40-...</td>\n",
       "      <td>D1</td>\n",
       "      <td>10.0</td>\n",
       "    </tr>\n",
       "    <tr>\n",
       "      <th>2</th>\n",
       "      <td>NaN</td>\n",
       "      <td>Baldwin County, AL</td>\n",
       "      <td>1003</td>\n",
       "      <td>2003.0</td>\n",
       "      <td>2003.0</td>\n",
       "      <td>All other alcohol-induced causes</td>\n",
       "      <td>A9</td>\n",
       "      <td>14.0</td>\n",
       "    </tr>\n",
       "    <tr>\n",
       "      <th>3</th>\n",
       "      <td>NaN</td>\n",
       "      <td>Baldwin County, AL</td>\n",
       "      <td>1003</td>\n",
       "      <td>2003.0</td>\n",
       "      <td>2003.0</td>\n",
       "      <td>All other non-drug and non-alcohol causes</td>\n",
       "      <td>O9</td>\n",
       "      <td>1479.0</td>\n",
       "    </tr>\n",
       "    <tr>\n",
       "      <th>4</th>\n",
       "      <td>NaN</td>\n",
       "      <td>Barbour County, AL</td>\n",
       "      <td>1005</td>\n",
       "      <td>2003.0</td>\n",
       "      <td>2003.0</td>\n",
       "      <td>All other non-drug and non-alcohol causes</td>\n",
       "      <td>O9</td>\n",
       "      <td>287.0</td>\n",
       "    </tr>\n",
       "  </tbody>\n",
       "</table>\n",
       "</div>"
      ],
      "text/plain": [
       "  Notes              County County Code    Year Year Code  \\\n",
       "0   NaN  Autauga County, AL        1001  2003.0    2003.0   \n",
       "1   NaN  Baldwin County, AL        1003  2003.0    2003.0   \n",
       "2   NaN  Baldwin County, AL        1003  2003.0    2003.0   \n",
       "3   NaN  Baldwin County, AL        1003  2003.0    2003.0   \n",
       "4   NaN  Barbour County, AL        1005  2003.0    2003.0   \n",
       "\n",
       "                          Drug/Alcohol Induced Cause  \\\n",
       "0          All other non-drug and non-alcohol causes   \n",
       "1  Drug poisonings (overdose) Unintentional (X40-...   \n",
       "2                   All other alcohol-induced causes   \n",
       "3          All other non-drug and non-alcohol causes   \n",
       "4          All other non-drug and non-alcohol causes   \n",
       "\n",
       "  Drug/Alcohol Induced Cause Code  Deaths  \n",
       "0                              O9   397.0  \n",
       "1                              D1    10.0  \n",
       "2                              A9    14.0  \n",
       "3                              O9  1479.0  \n",
       "4                              O9   287.0  "
      ]
     },
     "execution_count": 2,
     "metadata": {},
     "output_type": "execute_result"
    }
   ],
   "source": [
    "# Define the folder path\n",
    "folder_path = \"~/Desktop/US_VitalStatistics/\"\n",
    "\n",
    "# Load and combine yearly data files into a single dataframe\n",
    "raw_data = pd.concat(\n",
    "    [\n",
    "        pd.read_csv(\n",
    "            f\"{folder_path}Underlying Cause of Death, {year}.txt\", sep=\"\\t\", dtype=str\n",
    "        )\n",
    "        for year in range(2003, 2016)\n",
    "    ],\n",
    "    ignore_index=True,\n",
    ")\n",
    "\n",
    "raw_data.head()"
   ]
  },
  {
   "cell_type": "markdown",
   "metadata": {},
   "source": [
    "## Clean and Rename Columns"
   ]
  },
  {
   "cell_type": "code",
   "execution_count": 3,
   "metadata": {},
   "outputs": [
    {
     "data": {
      "text/html": [
       "<div>\n",
       "<style scoped>\n",
       "    .dataframe tbody tr th:only-of-type {\n",
       "        vertical-align: middle;\n",
       "    }\n",
       "\n",
       "    .dataframe tbody tr th {\n",
       "        vertical-align: top;\n",
       "    }\n",
       "\n",
       "    .dataframe thead th {\n",
       "        text-align: right;\n",
       "    }\n",
       "</style>\n",
       "<table border=\"1\" class=\"dataframe\">\n",
       "  <thead>\n",
       "    <tr style=\"text-align: right;\">\n",
       "      <th></th>\n",
       "      <th>county</th>\n",
       "      <th>county_code</th>\n",
       "      <th>year</th>\n",
       "      <th>cause</th>\n",
       "      <th>deaths</th>\n",
       "    </tr>\n",
       "  </thead>\n",
       "  <tbody>\n",
       "    <tr>\n",
       "      <th>0</th>\n",
       "      <td>Autauga County, AL</td>\n",
       "      <td>1001</td>\n",
       "      <td>2003.0</td>\n",
       "      <td>All other non-drug and non-alcohol causes</td>\n",
       "      <td>397.0</td>\n",
       "    </tr>\n",
       "    <tr>\n",
       "      <th>1</th>\n",
       "      <td>Baldwin County, AL</td>\n",
       "      <td>1003</td>\n",
       "      <td>2003.0</td>\n",
       "      <td>Drug poisonings (overdose) Unintentional (X40-...</td>\n",
       "      <td>10.0</td>\n",
       "    </tr>\n",
       "    <tr>\n",
       "      <th>2</th>\n",
       "      <td>Baldwin County, AL</td>\n",
       "      <td>1003</td>\n",
       "      <td>2003.0</td>\n",
       "      <td>All other alcohol-induced causes</td>\n",
       "      <td>14.0</td>\n",
       "    </tr>\n",
       "    <tr>\n",
       "      <th>3</th>\n",
       "      <td>Baldwin County, AL</td>\n",
       "      <td>1003</td>\n",
       "      <td>2003.0</td>\n",
       "      <td>All other non-drug and non-alcohol causes</td>\n",
       "      <td>1479.0</td>\n",
       "    </tr>\n",
       "    <tr>\n",
       "      <th>4</th>\n",
       "      <td>Barbour County, AL</td>\n",
       "      <td>1005</td>\n",
       "      <td>2003.0</td>\n",
       "      <td>All other non-drug and non-alcohol causes</td>\n",
       "      <td>287.0</td>\n",
       "    </tr>\n",
       "  </tbody>\n",
       "</table>\n",
       "</div>"
      ],
      "text/plain": [
       "               county county_code    year  \\\n",
       "0  Autauga County, AL        1001  2003.0   \n",
       "1  Baldwin County, AL        1003  2003.0   \n",
       "2  Baldwin County, AL        1003  2003.0   \n",
       "3  Baldwin County, AL        1003  2003.0   \n",
       "4  Barbour County, AL        1005  2003.0   \n",
       "\n",
       "                                               cause  deaths  \n",
       "0          All other non-drug and non-alcohol causes   397.0  \n",
       "1  Drug poisonings (overdose) Unintentional (X40-...    10.0  \n",
       "2                   All other alcohol-induced causes    14.0  \n",
       "3          All other non-drug and non-alcohol causes  1479.0  \n",
       "4          All other non-drug and non-alcohol causes   287.0  "
      ]
     },
     "execution_count": 3,
     "metadata": {},
     "output_type": "execute_result"
    }
   ],
   "source": [
    "# Drop unnecessary columns\n",
    "raw_data.drop(\n",
    "    columns=[\"Notes\", \"Year Code\", \"Drug/Alcohol Induced Cause Code\"],\n",
    "    inplace=True,\n",
    ")\n",
    "\n",
    "# Rename columns for consistency\n",
    "cleaned_data = raw_data.rename(\n",
    "    columns={\n",
    "        \"County\": \"county\",\n",
    "        \"County Code\": \"county_code\",\n",
    "        \"Year\": \"year\",\n",
    "        \"Drug/Alcohol Induced Cause\": \"cause\",\n",
    "        \"Deaths\": \"deaths\",\n",
    "    }\n",
    ")\n",
    "\n",
    "cleaned_data.head()"
   ]
  },
  {
   "cell_type": "markdown",
   "metadata": {},
   "source": [
    "## Filter for Drug-Related Causes"
   ]
  },
  {
   "cell_type": "code",
   "execution_count": 4,
   "metadata": {},
   "outputs": [
    {
     "name": "stdout",
     "output_type": "stream",
     "text": [
      "Unique values in 'cause':\n",
      "['All other non-drug and non-alcohol causes'\n",
      " 'Drug poisonings (overdose) Unintentional (X40-X44)'\n",
      " 'All other alcohol-induced causes' 'All other drug-induced causes'\n",
      " 'Drug poisonings (overdose) Suicide (X60-X64)'\n",
      " 'Drug poisonings (overdose) Undetermined (Y10-Y14)'\n",
      " 'Alcohol poisonings (overdose) (X45, X65, Y15)' nan\n",
      " 'Drug poisonings (overdose) Homicide (X85)']\n"
     ]
    }
   ],
   "source": [
    "# List unique values in 'cause' to identify categories\n",
    "unique_causes = cleaned_data[\"cause\"].unique()\n",
    "print(f\"Unique values in 'cause':\\n{unique_causes}\")"
   ]
  },
  {
   "cell_type": "code",
   "execution_count": 5,
   "metadata": {},
   "outputs": [
    {
     "data": {
      "text/html": [
       "<div>\n",
       "<style scoped>\n",
       "    .dataframe tbody tr th:only-of-type {\n",
       "        vertical-align: middle;\n",
       "    }\n",
       "\n",
       "    .dataframe tbody tr th {\n",
       "        vertical-align: top;\n",
       "    }\n",
       "\n",
       "    .dataframe thead th {\n",
       "        text-align: right;\n",
       "    }\n",
       "</style>\n",
       "<table border=\"1\" class=\"dataframe\">\n",
       "  <thead>\n",
       "    <tr style=\"text-align: right;\">\n",
       "      <th></th>\n",
       "      <th>county</th>\n",
       "      <th>county_code</th>\n",
       "      <th>year</th>\n",
       "      <th>cause</th>\n",
       "      <th>deaths</th>\n",
       "    </tr>\n",
       "  </thead>\n",
       "  <tbody>\n",
       "    <tr>\n",
       "      <th>1</th>\n",
       "      <td>Baldwin County, AL</td>\n",
       "      <td>1003</td>\n",
       "      <td>2003.0</td>\n",
       "      <td>Drug poisonings (overdose) Unintentional (X40-...</td>\n",
       "      <td>10.0</td>\n",
       "    </tr>\n",
       "    <tr>\n",
       "      <th>38</th>\n",
       "      <td>Jefferson County, AL</td>\n",
       "      <td>1073</td>\n",
       "      <td>2003.0</td>\n",
       "      <td>Drug poisonings (overdose) Unintentional (X40-...</td>\n",
       "      <td>37.0</td>\n",
       "    </tr>\n",
       "    <tr>\n",
       "      <th>54</th>\n",
       "      <td>Mobile County, AL</td>\n",
       "      <td>1097</td>\n",
       "      <td>2003.0</td>\n",
       "      <td>Drug poisonings (overdose) Unintentional (X40-...</td>\n",
       "      <td>26.0</td>\n",
       "    </tr>\n",
       "    <tr>\n",
       "      <th>78</th>\n",
       "      <td>Anchorage Borough, AK</td>\n",
       "      <td>2020</td>\n",
       "      <td>2003.0</td>\n",
       "      <td>Drug poisonings (overdose) Unintentional (X40-...</td>\n",
       "      <td>31.0</td>\n",
       "    </tr>\n",
       "    <tr>\n",
       "      <th>91</th>\n",
       "      <td>Matanuska-Susitna Borough, AK</td>\n",
       "      <td>2170</td>\n",
       "      <td>2003.0</td>\n",
       "      <td>Drug poisonings (overdose) Unintentional (X40-...</td>\n",
       "      <td>11.0</td>\n",
       "    </tr>\n",
       "  </tbody>\n",
       "</table>\n",
       "</div>"
      ],
      "text/plain": [
       "                           county county_code    year  \\\n",
       "1              Baldwin County, AL        1003  2003.0   \n",
       "38           Jefferson County, AL        1073  2003.0   \n",
       "54              Mobile County, AL        1097  2003.0   \n",
       "78          Anchorage Borough, AK        2020  2003.0   \n",
       "91  Matanuska-Susitna Borough, AK        2170  2003.0   \n",
       "\n",
       "                                                cause deaths  \n",
       "1   Drug poisonings (overdose) Unintentional (X40-...   10.0  \n",
       "38  Drug poisonings (overdose) Unintentional (X40-...   37.0  \n",
       "54  Drug poisonings (overdose) Unintentional (X40-...   26.0  \n",
       "78  Drug poisonings (overdose) Unintentional (X40-...   31.0  \n",
       "91  Drug poisonings (overdose) Unintentional (X40-...   11.0  "
      ]
     },
     "execution_count": 5,
     "metadata": {},
     "output_type": "execute_result"
    }
   ],
   "source": [
    "# Filter for main cause: unintentional drug overdose\n",
    "filtered_data = cleaned_data[\n",
    "    cleaned_data[\"cause\"] == \"Drug poisonings (overdose) Unintentional (X40-X44)\"\n",
    "]\n",
    "filtered_data.head()"
   ]
  },
  {
   "cell_type": "markdown",
   "metadata": {},
   "source": [
    "## Filter for Target States"
   ]
  },
  {
   "cell_type": "code",
   "execution_count": 6,
   "metadata": {},
   "outputs": [
    {
     "data": {
      "text/html": [
       "<div>\n",
       "<style scoped>\n",
       "    .dataframe tbody tr th:only-of-type {\n",
       "        vertical-align: middle;\n",
       "    }\n",
       "\n",
       "    .dataframe tbody tr th {\n",
       "        vertical-align: top;\n",
       "    }\n",
       "\n",
       "    .dataframe thead th {\n",
       "        text-align: right;\n",
       "    }\n",
       "</style>\n",
       "<table border=\"1\" class=\"dataframe\">\n",
       "  <thead>\n",
       "    <tr style=\"text-align: right;\">\n",
       "      <th></th>\n",
       "      <th>county</th>\n",
       "      <th>county_code</th>\n",
       "      <th>year</th>\n",
       "      <th>cause</th>\n",
       "      <th>deaths</th>\n",
       "      <th>state</th>\n",
       "    </tr>\n",
       "  </thead>\n",
       "  <tbody>\n",
       "    <tr>\n",
       "      <th>1</th>\n",
       "      <td>Baldwin County, AL</td>\n",
       "      <td>1003</td>\n",
       "      <td>2003.0</td>\n",
       "      <td>Drug poisonings (overdose) Unintentional (X40-...</td>\n",
       "      <td>10.0</td>\n",
       "      <td>AL</td>\n",
       "    </tr>\n",
       "    <tr>\n",
       "      <th>38</th>\n",
       "      <td>Jefferson County, AL</td>\n",
       "      <td>1073</td>\n",
       "      <td>2003.0</td>\n",
       "      <td>Drug poisonings (overdose) Unintentional (X40-...</td>\n",
       "      <td>37.0</td>\n",
       "      <td>AL</td>\n",
       "    </tr>\n",
       "    <tr>\n",
       "      <th>54</th>\n",
       "      <td>Mobile County, AL</td>\n",
       "      <td>1097</td>\n",
       "      <td>2003.0</td>\n",
       "      <td>Drug poisonings (overdose) Unintentional (X40-...</td>\n",
       "      <td>26.0</td>\n",
       "      <td>AL</td>\n",
       "    </tr>\n",
       "    <tr>\n",
       "      <th>378</th>\n",
       "      <td>Adams County, CO</td>\n",
       "      <td>8001</td>\n",
       "      <td>2003.0</td>\n",
       "      <td>Drug poisonings (overdose) Unintentional (X40-...</td>\n",
       "      <td>32.0</td>\n",
       "      <td>CO</td>\n",
       "    </tr>\n",
       "    <tr>\n",
       "      <th>383</th>\n",
       "      <td>Arapahoe County, CO</td>\n",
       "      <td>8005</td>\n",
       "      <td>2003.0</td>\n",
       "      <td>Drug poisonings (overdose) Unintentional (X40-...</td>\n",
       "      <td>33.0</td>\n",
       "      <td>CO</td>\n",
       "    </tr>\n",
       "  </tbody>\n",
       "</table>\n",
       "</div>"
      ],
      "text/plain": [
       "                   county county_code    year  \\\n",
       "1      Baldwin County, AL        1003  2003.0   \n",
       "38   Jefferson County, AL        1073  2003.0   \n",
       "54      Mobile County, AL        1097  2003.0   \n",
       "378      Adams County, CO        8001  2003.0   \n",
       "383   Arapahoe County, CO        8005  2003.0   \n",
       "\n",
       "                                                 cause deaths state  \n",
       "1    Drug poisonings (overdose) Unintentional (X40-...   10.0    AL  \n",
       "38   Drug poisonings (overdose) Unintentional (X40-...   37.0    AL  \n",
       "54   Drug poisonings (overdose) Unintentional (X40-...   26.0    AL  \n",
       "378  Drug poisonings (overdose) Unintentional (X40-...   32.0    CO  \n",
       "383  Drug poisonings (overdose) Unintentional (X40-...   33.0    CO  "
      ]
     },
     "execution_count": 6,
     "metadata": {},
     "output_type": "execute_result"
    }
   ],
   "source": [
    "# Add 'state' column\n",
    "filtered_data[\"state\"] = filtered_data[\"county\"].str.split(\", \").str[-1]\n",
    "\n",
    "# Filter for specific states\n",
    "filtered_data = filtered_data[\n",
    "    filtered_data[\"state\"].isin([\"FL\", \"WA\", \"OR\", \"GA\", \"OK\", \"AL\", \"CO\", \"ME\"])\n",
    "]\n",
    "\n",
    "filtered_data.head()"
   ]
  },
  {
   "cell_type": "markdown",
   "metadata": {},
   "source": [
    "## Handle Data Types"
   ]
  },
  {
   "cell_type": "code",
   "execution_count": 7,
   "metadata": {},
   "outputs": [
    {
     "data": {
      "text/plain": [
       "county         object\n",
       "county_code    object\n",
       "year           object\n",
       "cause          object\n",
       "deaths         object\n",
       "state          object\n",
       "dtype: object"
      ]
     },
     "execution_count": 7,
     "metadata": {},
     "output_type": "execute_result"
    }
   ],
   "source": [
    "# Check current data types\n",
    "filtered_data.dtypes"
   ]
  },
  {
   "cell_type": "code",
   "execution_count": 8,
   "metadata": {},
   "outputs": [
    {
     "data": {
      "text/plain": [
       "county         object\n",
       "county_code    object\n",
       "year            int64\n",
       "cause          object\n",
       "deaths          int64\n",
       "state          object\n",
       "dtype: object"
      ]
     },
     "execution_count": 8,
     "metadata": {},
     "output_type": "execute_result"
    }
   ],
   "source": [
    "# Standardize county_code to 5-digit FIPS format\n",
    "filtered_data[\"county_code\"] = filtered_data[\"county_code\"].astype(str).str.zfill(5)\n",
    "\n",
    "# Standardize county names\n",
    "filtered_data[\"county\"] = filtered_data[\"county\"].str.strip().str.title()\n",
    "\n",
    "# Standardize state abbreviations\n",
    "filtered_data[\"state\"] = filtered_data[\"state\"].str.strip().str.upper()\n",
    "\n",
    "# Convert year to numeric and handle invalid values\n",
    "filtered_data[\"year\"] = pd.to_numeric(filtered_data[\"year\"], errors=\"coerce\").astype(\n",
    "    \"int\"\n",
    ")\n",
    "\n",
    "# Convert deaths to numeric and handle invalid values\n",
    "filtered_data[\"deaths\"] = pd.to_numeric(\n",
    "    filtered_data[\"deaths\"], errors=\"coerce\"\n",
    ").astype(int)\n",
    "\n",
    "# Check new data types\n",
    "filtered_data.dtypes"
   ]
  },
  {
   "cell_type": "markdown",
   "metadata": {},
   "source": [
    "## Aggregate Annual Deaths by County"
   ]
  },
  {
   "cell_type": "code",
   "execution_count": 9,
   "metadata": {},
   "outputs": [
    {
     "name": "stdout",
     "output_type": "stream",
     "text": [
      "Number of duplicate rows: 0\n"
     ]
    },
    {
     "data": {
      "text/html": [
       "<div>\n",
       "<style scoped>\n",
       "    .dataframe tbody tr th:only-of-type {\n",
       "        vertical-align: middle;\n",
       "    }\n",
       "\n",
       "    .dataframe tbody tr th {\n",
       "        vertical-align: top;\n",
       "    }\n",
       "\n",
       "    .dataframe thead th {\n",
       "        text-align: right;\n",
       "    }\n",
       "</style>\n",
       "<table border=\"1\" class=\"dataframe\">\n",
       "  <thead>\n",
       "    <tr style=\"text-align: right;\">\n",
       "      <th></th>\n",
       "      <th>county_code</th>\n",
       "      <th>county</th>\n",
       "      <th>state</th>\n",
       "      <th>year</th>\n",
       "      <th>deaths</th>\n",
       "    </tr>\n",
       "  </thead>\n",
       "  <tbody>\n",
       "    <tr>\n",
       "      <th>0</th>\n",
       "      <td>01003</td>\n",
       "      <td>Baldwin County, Al</td>\n",
       "      <td>AL</td>\n",
       "      <td>2003</td>\n",
       "      <td>10</td>\n",
       "    </tr>\n",
       "    <tr>\n",
       "      <th>1</th>\n",
       "      <td>01003</td>\n",
       "      <td>Baldwin County, Al</td>\n",
       "      <td>AL</td>\n",
       "      <td>2004</td>\n",
       "      <td>18</td>\n",
       "    </tr>\n",
       "    <tr>\n",
       "      <th>2</th>\n",
       "      <td>01003</td>\n",
       "      <td>Baldwin County, Al</td>\n",
       "      <td>AL</td>\n",
       "      <td>2005</td>\n",
       "      <td>14</td>\n",
       "    </tr>\n",
       "    <tr>\n",
       "      <th>3</th>\n",
       "      <td>01003</td>\n",
       "      <td>Baldwin County, Al</td>\n",
       "      <td>AL</td>\n",
       "      <td>2006</td>\n",
       "      <td>11</td>\n",
       "    </tr>\n",
       "    <tr>\n",
       "      <th>4</th>\n",
       "      <td>01003</td>\n",
       "      <td>Baldwin County, Al</td>\n",
       "      <td>AL</td>\n",
       "      <td>2007</td>\n",
       "      <td>24</td>\n",
       "    </tr>\n",
       "  </tbody>\n",
       "</table>\n",
       "</div>"
      ],
      "text/plain": [
       "  county_code              county state  year  deaths\n",
       "0       01003  Baldwin County, Al    AL  2003      10\n",
       "1       01003  Baldwin County, Al    AL  2004      18\n",
       "2       01003  Baldwin County, Al    AL  2005      14\n",
       "3       01003  Baldwin County, Al    AL  2006      11\n",
       "4       01003  Baldwin County, Al    AL  2007      24"
      ]
     },
     "execution_count": 9,
     "metadata": {},
     "output_type": "execute_result"
    }
   ],
   "source": [
    "grouped_data = filtered_data.groupby(\n",
    "    [\"county_code\", \"county\", \"state\", \"year\"], as_index=False\n",
    ")[\"deaths\"].sum()\n",
    "\n",
    "# Check for duplicate rows in the grouped data\n",
    "print(f\"Number of duplicate rows: {grouped_data.duplicated().sum()}\")\n",
    "\n",
    "grouped_data.head()"
   ]
  },
  {
   "cell_type": "markdown",
   "metadata": {},
   "source": [
    "## Save Data to Parquet"
   ]
  },
  {
   "cell_type": "code",
   "execution_count": 10,
   "metadata": {},
   "outputs": [],
   "source": [
    "grouped_data.to_parquet(\"data/mortality_data.parquet\", index=False)"
   ]
  }
 ],
 "metadata": {
  "kernelspec": {
   "display_name": "base",
   "language": "python",
   "name": "python3"
  },
  "language_info": {
   "codemirror_mode": {
    "name": "ipython",
    "version": 3
   },
   "file_extension": ".py",
   "mimetype": "text/x-python",
   "name": "python",
   "nbconvert_exporter": "python",
   "pygments_lexer": "ipython3",
   "version": "3.12.6"
  }
 },
 "nbformat": 4,
 "nbformat_minor": 2
}
